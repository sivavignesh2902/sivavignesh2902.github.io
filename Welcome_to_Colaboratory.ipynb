{
  "nbformat": 4,
  "nbformat_minor": 0,
  "metadata": {
    "colab": {
      "name": "Welcome to Colaboratory",
      "provenance": [],
      "collapsed_sections": [],
      "toc_visible": true,
      "include_colab_link": true
    },
    "kernelspec": {
      "display_name": "Python 3",
      "name": "python3"
    }
  },
  "cells": [
    {
      "cell_type": "markdown",
      "metadata": {
        "id": "view-in-github",
        "colab_type": "text"
      },
      "source": [
        "<a href=\"https://colab.research.google.com/github/sivavignesh2902/sivavignesh2902.github.io/blob/main/Welcome_to_Colaboratory.ipynb\" target=\"_parent\"><img src=\"https://colab.research.google.com/assets/colab-badge.svg\" alt=\"Open In Colab\"/></a>"
      ]
    },
    {
      "cell_type": "code",
      "metadata": {
        "colab": {
          "base_uri": "https://localhost:8080/",
          "height": 0
        },
        "id": "HaCfS6bR4OAN",
        "outputId": "423f3c50-1d91-4539-c59e-2ee47149ccec"
      },
      "source": [
        "#A.\n",
        "name = \"s.siva vignesh\"\n",
        "print(name)"
      ],
      "execution_count": 2,
      "outputs": [
        {
          "output_type": "stream",
          "text": [
            "s.siva vignesh\n"
          ],
          "name": "stdout"
        }
      ]
    },
    {
      "cell_type": "code",
      "metadata": {
        "colab": {
          "base_uri": "https://localhost:8080/"
        },
        "id": "79scK__F4cYW",
        "outputId": "8049217c-3493-4698-affe-7d0ccef03017"
      },
      "source": [
        "#B.\n",
        "minu = 42\n",
        "sec = 42\n",
        "min_sec = minu * 60\n",
        "tot_sec = min_sec + sec\n",
        "print(\"Total seconds: \",tot_sec) "
      ],
      "execution_count": 3,
      "outputs": [
        {
          "output_type": "stream",
          "text": [
            "Total seconds:  2562\n"
          ],
          "name": "stdout"
        }
      ]
    },
    {
      "cell_type": "code",
      "metadata": {
        "colab": {
          "base_uri": "https://localhost:8080/"
        },
        "id": "Gu6A1aFMBxVj",
        "outputId": "fd891b33-19a9-495a-bf5d-209691e24846"
      },
      "source": [
        "#C.\n",
        "km = 10\n",
        "mile = (1/1.61) * 10\n",
        "print(\"Total miles: \",mile)"
      ],
      "execution_count": 4,
      "outputs": [
        {
          "output_type": "stream",
          "text": [
            "Total miles:  6.211180124223602\n"
          ],
          "name": "stdout"
        }
      ]
    },
    {
      "cell_type": "code",
      "metadata": {
        "colab": {
          "base_uri": "https://localhost:8080/"
        },
        "id": "hbCZFC2zCDRx",
        "outputId": "ca623bd9-abf7-4fa2-9915-dc638c6102b7"
      },
      "source": [
        "#D.\n",
        "r = 1\n",
        "pi = 3.14\n",
        "vol = (4/3)*pi*(r**2)\n",
        "print(\"Volume of sphere: \",vol)"
      ],
      "execution_count": 5,
      "outputs": [
        {
          "output_type": "stream",
          "text": [
            "Volume of sphere:  4.1866666666666665\n"
          ],
          "name": "stdout"
        }
      ]
    },
    {
      "cell_type": "code",
      "metadata": {
        "colab": {
          "base_uri": "https://localhost:8080/"
        },
        "id": "aSR4qhe5CPJK",
        "outputId": "736c4e8f-11f2-44cb-9718-55521895b457"
      },
      "source": [
        "#E.\n",
        "sp = 24.95*0.40\n",
        "n = 60\n",
        "tot = 3 + ((n-1)*(3/4))\n",
        "print(\"Total price: $\",tot)"
      ],
      "execution_count": 6,
      "outputs": [
        {
          "output_type": "stream",
          "text": [
            "Total price: $ 47.25\n"
          ],
          "name": "stdout"
        }
      ]
    },
    {
      "cell_type": "code",
      "metadata": {
        "colab": {
          "base_uri": "https://localhost:8080/",
          "height": 231
        },
        "id": "7EeWieXfCe9J",
        "outputId": "7b026b78-ad91-4d8c-b1bb-476b5938a375"
      },
      "source": [
        "#F.\n",
        "x = int(input(\"Enter a number\"))\n",
        "y = x/0\n",
        "print(y)"
      ],
      "execution_count": 7,
      "outputs": [
        {
          "output_type": "stream",
          "text": [
            "Enter a number10\n"
          ],
          "name": "stdout"
        },
        {
          "output_type": "error",
          "ename": "ZeroDivisionError",
          "evalue": "ignored",
          "traceback": [
            "\u001b[0;31m---------------------------------------------------------------------------\u001b[0m",
            "\u001b[0;31mZeroDivisionError\u001b[0m                         Traceback (most recent call last)",
            "\u001b[0;32m<ipython-input-7-87f691230d09>\u001b[0m in \u001b[0;36m<module>\u001b[0;34m()\u001b[0m\n\u001b[1;32m      1\u001b[0m \u001b[0;31m#F.\u001b[0m\u001b[0;34m\u001b[0m\u001b[0;34m\u001b[0m\u001b[0;34m\u001b[0m\u001b[0m\n\u001b[1;32m      2\u001b[0m \u001b[0mx\u001b[0m \u001b[0;34m=\u001b[0m \u001b[0mint\u001b[0m\u001b[0;34m(\u001b[0m\u001b[0minput\u001b[0m\u001b[0;34m(\u001b[0m\u001b[0;34m\"Enter a number\"\u001b[0m\u001b[0;34m)\u001b[0m\u001b[0;34m)\u001b[0m\u001b[0;34m\u001b[0m\u001b[0;34m\u001b[0m\u001b[0m\n\u001b[0;32m----> 3\u001b[0;31m \u001b[0my\u001b[0m \u001b[0;34m=\u001b[0m \u001b[0mx\u001b[0m\u001b[0;34m/\u001b[0m\u001b[0;36m0\u001b[0m\u001b[0;34m\u001b[0m\u001b[0;34m\u001b[0m\u001b[0m\n\u001b[0m\u001b[1;32m      4\u001b[0m \u001b[0mprint\u001b[0m\u001b[0;34m(\u001b[0m\u001b[0my\u001b[0m\u001b[0;34m)\u001b[0m\u001b[0;34m\u001b[0m\u001b[0;34m\u001b[0m\u001b[0m\n",
            "\u001b[0;31mZeroDivisionError\u001b[0m: division by zero"
          ]
        }
      ]
    },
    {
      "cell_type": "code",
      "metadata": {
        "colab": {
          "base_uri": "https://localhost:8080/"
        },
        "id": "T4Xc-Im0Cf4h",
        "outputId": "e2e01043-8b97-4db2-882d-b140dff51675"
      },
      "source": [
        "#1.\n",
        "name = \"S.Siva Vignesh\"\n",
        "address = \"Pollachi,Coimbatore-642003\"\n",
        "tel = \"0422281157\"\n",
        "print(\"Your details are..\",name,\" \",address,\" \",tel)"
      ],
      "execution_count": 9,
      "outputs": [
        {
          "output_type": "stream",
          "text": [
            "Your details are.. S.Siva Vignesh   Pollachi,Coimbatore-642003   0422281157\n"
          ],
          "name": "stdout"
        }
      ]
    },
    {
      "cell_type": "code",
      "metadata": {
        "colab": {
          "base_uri": "https://localhost:8080/"
        },
        "id": "1SMgbK33DfbK",
        "outputId": "6d351cb7-f221-4c11-c8b7-81de93029020"
      },
      "source": [
        "#2.\n",
        "f_name = input(\"Enter first name: \")\n",
        "l_name = input(\"Enter last name: \")\n",
        "print(\"Hello\",f_name,\" \",l_name,end=\"\\n\")\n",
        "print(\"Welcome to Python!\")\n",
        "print(\"For the \",f_name,\" and \",l_name,\" entered\")"
      ],
      "execution_count": 10,
      "outputs": [
        {
          "output_type": "stream",
          "text": [
            "Enter first name: siva vignesh\n",
            "Enter last name: siva kumar\n",
            "Hello siva vignesh   siva kumar\n",
            "Welcome to Python!\n",
            "For the  siva vignesh  and  siva kumar  entered\n"
          ],
          "name": "stdout"
        }
      ]
    },
    {
      "cell_type": "code",
      "metadata": {
        "colab": {
          "base_uri": "https://localhost:8080/"
        },
        "id": "NZSNuKS7EKoB",
        "outputId": "e95da4e0-1cbd-41f0-d5fa-d4dcd9993ce8"
      },
      "source": [
        "#3.\n",
        "x = 8\n",
        "y = 2\n",
        "print(x + y * 3)\n",
        "print((x+y)*3)\n",
        "print(x**y)\n",
        "print(x%y)\n",
        "print(x/12.0)\n",
        "print(x//6)"
      ],
      "execution_count": 11,
      "outputs": [
        {
          "output_type": "stream",
          "text": [
            "14\n",
            "30\n",
            "64\n",
            "0\n",
            "0.6666666666666666\n",
            "1\n"
          ],
          "name": "stdout"
        }
      ]
    }
  ]
}